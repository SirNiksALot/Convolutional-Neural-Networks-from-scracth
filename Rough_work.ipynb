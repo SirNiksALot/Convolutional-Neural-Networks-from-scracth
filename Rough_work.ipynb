{
 "cells": [
  {
   "cell_type": "code",
   "execution_count": 35,
   "id": "a1ece873-c4dc-45f1-81f5-fb1e48af81b0",
   "metadata": {},
   "outputs": [],
   "source": [
    "import numpy as np\n",
    "import pandas as pd\n",
    "import matplotlib.pyplot as plt"
   ]
  },
  {
   "cell_type": "code",
   "execution_count": 36,
   "id": "6217ce69-a050-4242-b89e-9398ad1484a2",
   "metadata": {},
   "outputs": [],
   "source": [
    "Dataset=pd.read_csv(\"mnist_train.csv/mnist_train.csv\")"
   ]
  },
  {
   "cell_type": "code",
   "execution_count": 37,
   "id": "f2149d2b-1a50-4418-a795-a96e2d95f936",
   "metadata": {},
   "outputs": [],
   "source": [
    "Dataset=np.array(Dataset)"
   ]
  },
  {
   "cell_type": "code",
   "execution_count": 38,
   "id": "7ce2204c-589c-45d2-a606-1399f703065a",
   "metadata": {},
   "outputs": [],
   "source": [
    "sample=Dataset[0]"
   ]
  },
  {
   "cell_type": "code",
   "execution_count": 39,
   "id": "8461d114-f935-48c7-9281-33578dc84245",
   "metadata": {},
   "outputs": [],
   "source": [
    "y_unencoded=sample[0]"
   ]
  },
  {
   "cell_type": "code",
   "execution_count": 40,
   "id": "8b2c0b4e-b61c-478f-8c54-5f98e6857b8f",
   "metadata": {},
   "outputs": [],
   "source": [
    "x=sample[1:].reshape((28,28))"
   ]
  },
  {
   "cell_type": "code",
   "execution_count": 41,
   "id": "895e3d67-3379-40c7-977c-3f6404757b57",
   "metadata": {},
   "outputs": [
    {
     "data": {
      "text/plain": [
       "(28, 28)"
      ]
     },
     "execution_count": 41,
     "metadata": {},
     "output_type": "execute_result"
    }
   ],
   "source": [
    "x.shape"
   ]
  },
  {
   "cell_type": "code",
   "execution_count": 42,
   "id": "4d620177-551b-4850-97d9-c64c996d71e5",
   "metadata": {
    "scrolled": true
   },
   "outputs": [
    {
     "data": {
      "image/png": "[encoded data removed]",
      "text/plain": [
       "<Figure size 640x480 with 1 Axes>"
      ]
     },
     "metadata": {},
     "output_type": "display_data"
    }
   ],
   "source": [
    "x=x/255\n",
    "plt.gray\n",
    "plt.imshow(x,interpolation=\"nearest\")\n",
    "plt.show()"
   ]
  },
  {
   "cell_type": "code",
   "execution_count": 43,
   "id": "712ecc23-d74d-418f-a958-0700c4d78e52",
   "metadata": {},
   "outputs": [
    {
     "data": {
      "text/plain": [
       "5"
      ]
     },
     "execution_count": 43,
     "metadata": {},
     "output_type": "execute_result"
    }
   ],
   "source": [
    "y_unencoded"
   ]
  },
  {
   "cell_type": "code",
   "execution_count": 44,
   "id": "f3e97e99-b18e-42b8-95de-4c940edc1df5",
   "metadata": {},
   "outputs": [
    {
     "data": {
      "text/plain": [
       "array([[0.        , 0.        , 0.        , 0.        , 0.        ,\n",
       "        0.        , 0.        , 0.        , 0.        , 0.        ,\n",
       "        0.        , 0.        , 0.        , 0.        , 0.        ,\n",
       "        0.        , 0.        , 0.        , 0.        , 0.        ,\n",
       "        0.        , 0.        , 0.        , 0.        , 0.        ,\n",
       "        0.        , 0.        , 0.        ],\n",
       "       [0.        , 0.        , 0.        , 0.        , 0.        ,\n",
       "        0.        , 0.        , 0.        , 0.        , 0.        ,\n",
       "        0.        , 0.        , 0.        , 0.        , 0.        ,\n",
       "        0.        , 0.        , 0.        , 0.        , 0.        ,\n",
       "        0.        , 0.        , 0.        , 0.        , 0.        ,\n",
       "        0.        , 0.        , 0.        ],\n",
       "       [0.        , 0.        , 0.        , 0.        , 0.        ,\n",
       "        0.        , 0.        , 0.        , 0.        , 0.        ,\n",
       "        0.        , 0.        , 0.        , 0.        , 0.        ,\n",
       "        0.        , 0.        , 0.        , 0.        , 0.        ,\n",
       "        0.        , 0.        , 0.        , 0.        , 0.        ,\n",
       "        0.        , 0.        , 0.        ],\n",
       "       [0.        , 0.        , 0.        , 0.        , 0.        ,\n",
       "        0.        , 0.        , 0.        , 0.        , 0.        ,\n",
       "        0.        , 0.        , 0.        , 0.        , 0.        ,\n",
       "        0.        , 0.        , 0.        , 0.        , 0.        ,\n",
       "        0.        , 0.        , 0.        , 0.        , 0.        ,\n",
       "        0.        , 0.        , 0.        ],\n",
       "       [0.        , 0.        , 0.        , 0.        , 0.        ,\n",
       "        0.        , 0.        , 0.        , 0.        , 0.        ,\n",
       "        0.        , 0.        , 0.        , 0.        , 0.        ,\n",
       "        0.        , 0.        , 0.        , 0.        , 0.        ,\n",
       "        0.        , 0.        , 0.        , 0.        , 0.        ,\n",
       "        0.        , 0.        , 0.        ],\n",
       "       [0.        , 0.        , 0.        , 0.        , 0.        ,\n",
       "        0.        , 0.        , 0.        , 0.        , 0.        ,\n",
       "        0.        , 0.        , 0.01176471, 0.07058824, 0.07058824,\n",
       "        0.07058824, 0.49411765, 0.53333333, 0.68627451, 0.10196078,\n",
       "        0.65098039, 1.        , 0.96862745, 0.49803922, 0.        ,\n",
       "        0.        , 0.        , 0.        ],\n",
       "       [0.        , 0.        , 0.        , 0.        , 0.        ,\n",
       "        0.        , 0.        , 0.        , 0.11764706, 0.14117647,\n",
       "        0.36862745, 0.60392157, 0.66666667, 0.99215686, 0.99215686,\n",
       "        0.99215686, 0.99215686, 0.99215686, 0.88235294, 0.6745098 ,\n",
       "        0.99215686, 0.94901961, 0.76470588, 0.25098039, 0.        ,\n",
       "        0.        , 0.        , 0.        ],\n",
       "       [0.        , 0.        , 0.        , 0.        , 0.        ,\n",
       "        0.        , 0.        , 0.19215686, 0.93333333, 0.99215686,\n",
       "        0.99215686, 0.99215686, 0.99215686, 0.99215686, 0.99215686,\n",
       "        0.99215686, 0.99215686, 0.98431373, 0.36470588, 0.32156863,\n",
       "        0.32156863, 0.21960784, 0.15294118, 0.        , 0.        ,\n",
       "        0.        , 0.        , 0.        ],\n",
       "       [0.        , 0.        , 0.        , 0.        , 0.        ,\n",
       "        0.        , 0.        , 0.07058824, 0.85882353, 0.99215686,\n",
       "        0.99215686, 0.99215686, 0.99215686, 0.99215686, 0.77647059,\n",
       "        0.71372549, 0.96862745, 0.94509804, 0.        , 0.        ,\n",
       "        0.        , 0.        , 0.        , 0.        , 0.        ,\n",
       "        0.        , 0.        , 0.        ],\n",
       "       [0.        , 0.        , 0.        , 0.        , 0.        ,\n",
       "        0.        , 0.        , 0.        , 0.31372549, 0.61176471,\n",
       "        0.41960784, 0.99215686, 0.99215686, 0.80392157, 0.04313725,\n",
       "        0.        , 0.16862745, 0.60392157, 0.        , 0.        ,\n",
       "        0.        , 0.        , 0.        , 0.        , 0.        ,\n",
       "        0.        , 0.        , 0.        ],\n",
       "       [0.        , 0.        , 0.        , 0.        , 0.        ,\n",
       "        0.        , 0.        , 0.        , 0.        , 0.05490196,\n",
       "        0.00392157, 0.60392157, 0.99215686, 0.35294118, 0.        ,\n",
       "        0.        , 0.        , 0.        , 0.        , 0.        ,\n",
       "        0.        , 0.        , 0.        , 0.        , 0.        ,\n",
       "        0.        , 0.        , 0.        ],\n",
       "       [0.        , 0.        , 0.        , 0.        , 0.        ,\n",
       "        0.        , 0.        , 0.        , 0.        , 0.        ,\n",
       "        0.        , 0.54509804, 0.99215686, 0.74509804, 0.00784314,\n",
       "        0.        , 0.        , 0.        , 0.        , 0.        ,\n",
       "        0.        , 0.        , 0.        , 0.        , 0.        ,\n",
       "        0.        , 0.        , 0.        ],\n",
       "       [0.        , 0.        , 0.        , 0.        , 0.        ,\n",
       "        0.        , 0.        , 0.        , 0.        , 0.        ,\n",
       "        0.        , 0.04313725, 0.74509804, 0.99215686, 0.2745098 ,\n",
       "        0.        , 0.        , 0.        , 0.        , 0.        ,\n",
       "        0.        , 0.        , 0.        , 0.        , 0.        ,\n",
       "        0.        , 0.        , 0.        ],\n",
       "       [0.        , 0.        , 0.        , 0.        , 0.        ,\n",
       "        0.        , 0.        , 0.        , 0.        , 0.        ,\n",
       "        0.        , 0.        , 0.1372549 , 0.94509804, 0.88235294,\n",
       "        0.62745098, 0.42352941, 0.00392157, 0.        , 0.        ,\n",
       "        0.        , 0.        , 0.        , 0.        , 0.        ,\n",
       "        0.        , 0.        , 0.        ],\n",
       "       [0.        , 0.        , 0.        , 0.        , 0.        ,\n",
       "        0.        , 0.        , 0.        , 0.        , 0.        ,\n",
       "        0.        , 0.        , 0.        , 0.31764706, 0.94117647,\n",
       "        0.99215686, 0.99215686, 0.46666667, 0.09803922, 0.        ,\n",
       "        0.        , 0.        , 0.        , 0.        , 0.        ,\n",
       "        0.        , 0.        , 0.        ],\n",
       "       [0.        , 0.        , 0.        , 0.        , 0.        ,\n",
       "        0.        , 0.        , 0.        , 0.        , 0.        ,\n",
       "        0.        , 0.        , 0.        , 0.        , 0.17647059,\n",
       "        0.72941176, 0.99215686, 0.99215686, 0.58823529, 0.10588235,\n",
       "        0.        , 0.        , 0.        , 0.        , 0.        ,\n",
       "        0.        , 0.        , 0.        ],\n",
       "       [0.        , 0.        , 0.        , 0.        , 0.        ,\n",
       "        0.        , 0.        , 0.        , 0.        , 0.        ,\n",
       "        0.        , 0.        , 0.        , 0.        , 0.        ,\n",
       "        0.0627451 , 0.36470588, 0.98823529, 0.99215686, 0.73333333,\n",
       "        0.        , 0.        , 0.        , 0.        , 0.        ,\n",
       "        0.        , 0.        , 0.        ],\n",
       "       [0.        , 0.        , 0.        , 0.        , 0.        ,\n",
       "        0.        , 0.        , 0.        , 0.        , 0.        ,\n",
       "        0.        , 0.        , 0.        , 0.        , 0.        ,\n",
       "        0.        , 0.        , 0.97647059, 0.99215686, 0.97647059,\n",
       "        0.25098039, 0.        , 0.        , 0.        , 0.        ,\n",
       "        0.        , 0.        , 0.        ],\n",
       "       [0.        , 0.        , 0.        , 0.        , 0.        ,\n",
       "        0.        , 0.        , 0.        , 0.        , 0.        ,\n",
       "        0.        , 0.        , 0.        , 0.        , 0.18039216,\n",
       "        0.50980392, 0.71764706, 0.99215686, 0.99215686, 0.81176471,\n",
       "        0.00784314, 0.        , 0.        , 0.        , 0.        ,\n",
       "        0.        , 0.        , 0.        ],\n",
       "       [0.        , 0.        , 0.        , 0.        , 0.        ,\n",
       "        0.        , 0.        , 0.        , 0.        , 0.        ,\n",
       "        0.        , 0.        , 0.15294118, 0.58039216, 0.89803922,\n",
       "        0.99215686, 0.99215686, 0.99215686, 0.98039216, 0.71372549,\n",
       "        0.        , 0.        , 0.        , 0.        , 0.        ,\n",
       "        0.        , 0.        , 0.        ],\n",
       "       [0.        , 0.        , 0.        , 0.        , 0.        ,\n",
       "        0.        , 0.        , 0.        , 0.        , 0.        ,\n",
       "        0.09411765, 0.44705882, 0.86666667, 0.99215686, 0.99215686,\n",
       "        0.99215686, 0.99215686, 0.78823529, 0.30588235, 0.        ,\n",
       "        0.        , 0.        , 0.        , 0.        , 0.        ,\n",
       "        0.        , 0.        , 0.        ],\n",
       "       [0.        , 0.        , 0.        , 0.        , 0.        ,\n",
       "        0.        , 0.        , 0.        , 0.09019608, 0.25882353,\n",
       "        0.83529412, 0.99215686, 0.99215686, 0.99215686, 0.99215686,\n",
       "        0.77647059, 0.31764706, 0.00784314, 0.        , 0.        ,\n",
       "        0.        , 0.        , 0.        , 0.        , 0.        ,\n",
       "        0.        , 0.        , 0.        ],\n",
       "       [0.        , 0.        , 0.        , 0.        , 0.        ,\n",
       "        0.        , 0.07058824, 0.67058824, 0.85882353, 0.99215686,\n",
       "        0.99215686, 0.99215686, 0.99215686, 0.76470588, 0.31372549,\n",
       "        0.03529412, 0.        , 0.        , 0.        , 0.        ,\n",
       "        0.        , 0.        , 0.        , 0.        , 0.        ,\n",
       "        0.        , 0.        , 0.        ],\n",
       "       [0.        , 0.        , 0.        , 0.        , 0.21568627,\n",
       "        0.6745098 , 0.88627451, 0.99215686, 0.99215686, 0.99215686,\n",
       "        0.99215686, 0.95686275, 0.52156863, 0.04313725, 0.        ,\n",
       "        0.        , 0.        , 0.        , 0.        , 0.        ,\n",
       "        0.        , 0.        , 0.        , 0.        , 0.        ,\n",
       "        0.        , 0.        , 0.        ],\n",
       "       [0.        , 0.        , 0.        , 0.        , 0.53333333,\n",
       "        0.99215686, 0.99215686, 0.99215686, 0.83137255, 0.52941176,\n",
       "        0.51764706, 0.0627451 , 0.        , 0.        , 0.        ,\n",
       "        0.        , 0.        , 0.        , 0.        , 0.        ,\n",
       "        0.        , 0.        , 0.        , 0.        , 0.        ,\n",
       "        0.        , 0.        , 0.        ],\n",
       "       [0.        , 0.        , 0.        , 0.        , 0.        ,\n",
       "        0.        , 0.        , 0.        , 0.        , 0.        ,\n",
       "        0.        , 0.        , 0.        , 0.        , 0.        ,\n",
       "        0.        , 0.        , 0.        , 0.        , 0.        ,\n",
       "        0.        , 0.        , 0.        , 0.        , 0.        ,\n",
       "        0.        , 0.        , 0.        ],\n",
       "       [0.        , 0.        , 0.        , 0.        , 0.        ,\n",
       "        0.        , 0.        , 0.        , 0.        , 0.        ,\n",
       "        0.        , 0.        , 0.        , 0.        , 0.        ,\n",
       "        0.        , 0.        , 0.        , 0.        , 0.        ,\n",
       "        0.        , 0.        , 0.        , 0.        , 0.        ,\n",
       "        0.        , 0.        , 0.        ],\n",
       "       [0.        , 0.        , 0.        , 0.        , 0.        ,\n",
       "        0.        , 0.        , 0.        , 0.        , 0.        ,\n",
       "        0.        , 0.        , 0.        , 0.        , 0.        ,\n",
       "        0.        , 0.        , 0.        , 0.        , 0.        ,\n",
       "        0.        , 0.        , 0.        , 0.        , 0.        ,\n",
       "        0.        , 0.        , 0.        ]])"
      ]
     },
     "execution_count": 44,
     "metadata": {},
     "output_type": "execute_result"
    }
   ],
   "source": [
    "x"
   ]
  },
  {
   "cell_type": "code",
   "execution_count": 45,
   "id": "8ff0438f-aefb-44cd-938d-81b0901d1685",
   "metadata": {},
   "outputs": [],
   "source": [
    "def init_filters():\n",
    "    f1=np.random.normal(size=(5,5))\n",
    "    f2=np.random.normal(size=(5,5))\n",
    "    f3=np.random.normal(size=(5,5))\n",
    "    f4=np.random.normal(size=(5,5))\n",
    "    f5=np.random.normal(size=(5,5))\n",
    "    f6=np.random.normal(size=(5,5))\n",
    "    f7=np.random.normal(size=(5,5))\n",
    "    f8=np.random.normal(size=(5,5))\n",
    "    f9=np.random.normal(size=(5,5))\n",
    "    f10=np.random.normal(size=(5,5))\n",
    "    return f1,f2,f3,f4,f5,f6,f7,f8,f9,f10\n",
    "\n",
    "\n",
    "def max_pool(arr,pool_filter=2):\n",
    "    stride=pool_filter\n",
    "    if arr.shape[0]%pool_filter==0:\n",
    "        row_padding=0\n",
    "    else:\n",
    "        row_padding=pool_filter-(arr.shape[0]%pool_filter)\n",
    "    \n",
    "    if arr.shape[1]%pool_filter==0:\n",
    "        col_padding=0\n",
    "    else:\n",
    "        col_padding=pool_filter-(arr.shape[1]%pool_filter)\n",
    "    \n",
    "    \n",
    "    input=np.zeros((arr.shape[0]+row_padding,arr.shape[1]+col_padding))\n",
    "    input[:arr.shape[0],:arr.shape[1]]=arr\n",
    "    \n",
    "    col_pooled=int((input.shape[1]-pool_filter)/stride)+1 #or int((arr.shape[0]+row_padding-pool_filter)/stride)+1\n",
    "    row_pooled=int((input.shape[0]-pool_filter)/stride)+1 #or int((arr.shape[1]+col_padding-pool_filter)/stride)+1\n",
    "    \n",
    "    pooled=np.zeros((row_pooled,col_pooled))\n",
    "    \n",
    "    skeleton=np.zeros(input.shape)\n",
    "    \n",
    "    for i in range (0,row_pooled):\n",
    "        for j in range(0,col_pooled):\n",
    "            '''obtaining max_pool output'''\n",
    "            pooled[i,j]=(input[(stride*i):(stride*i)+pool_filter,(stride*j):(stride*j)+pool_filter]).max()\n",
    "\n",
    "            '''obtaining skeleton for max_pool back prop'''\n",
    "            max=pooled[i,j]\n",
    "            [p,q]=find_index(input[(stride*i):(stride*i)+pool_filter,(stride*j):(stride*j)+pool_filter],max)\n",
    "            skeleton[(stride*i):(stride*i)+pool_filter,(stride*j):(stride*j)+pool_filter][p,q]=1\n",
    "            # [(stride*i):(stride*i)+pool_filter,(stride*j):(stride*j)+pool_filter]  selects the current window the filter is over \n",
    "            # [p,q] is the index where max value is in the current max_pool filter window \n",
    "            \n",
    "    return pooled,skeleton\n",
    "\n",
    "\n",
    "def find_index(arr,v):\n",
    "    for i in range(arr.shape[0]):\n",
    "        for j in range(arr.shape[1]):\n",
    "            if arr[i,j]==v:\n",
    "                return [i,j]\n",
    "\n",
    "def convolve(image,kernel,padding=1,stride=1):\n",
    "    arr=np.zeros((image.shape[0]+padding*2,image.shape[1]+padding*2))\n",
    "    arr[padding:-1*padding,padding:-1*padding]=image\n",
    "\n",
    "    col_out_dim=int((image.shape[1]+(2*padding)-kernel.shape[1])/stride)+1\n",
    "    row_out_dim=int((image.shape[0]+(2*padding)-kernel.shape[0])/stride)+1\n",
    "\n",
    "    output=np.zeros((row_out_dim,col_out_dim))\n",
    "\n",
    "    for i in range (0,row_out_dim):\n",
    "        for j in range(0,col_out_dim):\n",
    "            output[i,j]=(kernel*arr[stride*i:((stride*i)+kernel.shape[0]),stride*j:(stride*j)+kernel.shape[1]]).sum()\n",
    "    return output\n",
    "\n",
    "def relu(input):\n",
    "    return np.maximum(0,input)\n",
    "\n",
    "\n",
    "def convolution_epoch(x,f):\n",
    "    \n",
    "    output=convolve(x,f)\n",
    "    relu_op=relu(output)\n",
    "    pooled,skeleton=max_pool(relu_op)\n",
    "    flattened=pooled.reshape((169,1))\n",
    "    return flattened,skeleton\n",
    "    "
   ]
  },
  {
   "cell_type": "code",
   "execution_count": 68,
   "id": "2ae8a9fd-1842-47d6-807b-0f6b6b710ee8",
   "metadata": {
    "scrolled": true
   },
   "outputs": [
    {
     "data": {
      "text/plain": [
       "array([[1., 0., 1., 0., 1., 0., 1., 0., 1., 0., 1., 0., 1., 0., 1., 0.,\n",
       "        1., 0., 1., 0., 1., 0., 1., 0., 1., 0.],\n",
       "       [0., 0., 0., 0., 0., 0., 0., 0., 0., 0., 0., 0., 0., 0., 0., 0.,\n",
       "        0., 0., 0., 0., 0., 0., 0., 0., 0., 0.],\n",
       "       [1., 0., 1., 0., 0., 0., 1., 0., 0., 1., 1., 0., 1., 0., 1., 0.,\n",
       "        1., 0., 1., 0., 0., 0., 0., 0., 1., 0.],\n",
       "       [0., 0., 0., 0., 0., 1., 0., 0., 0., 0., 0., 0., 0., 0., 0., 0.,\n",
       "        0., 0., 0., 0., 0., 1., 1., 0., 0., 0.],\n",
       "       [1., 0., 1., 0., 1., 0., 1., 0., 1., 0., 1., 0., 1., 0., 0., 0.,\n",
       "        0., 1., 0., 0., 0., 1., 1., 0., 0., 0.],\n",
       "       [0., 0., 0., 0., 0., 0., 0., 0., 0., 0., 0., 0., 0., 0., 1., 0.,\n",
       "        0., 0., 1., 0., 0., 0., 0., 0., 1., 0.],\n",
       "       [1., 0., 1., 0., 0., 0., 0., 0., 1., 0., 1., 0., 0., 1., 1., 0.,\n",
       "        1., 0., 1., 0., 1., 0., 1., 0., 1., 0.],\n",
       "       [0., 0., 0., 0., 0., 1., 1., 0., 0., 0., 0., 0., 0., 0., 0., 0.,\n",
       "        0., 0., 0., 0., 0., 0., 0., 0., 0., 0.],\n",
       "       [1., 0., 1., 0., 1., 0., 1., 0., 1., 0., 1., 0., 1., 0., 1., 0.,\n",
       "        1., 0., 1., 0., 1., 0., 1., 0., 1., 0.],\n",
       "       [0., 0., 0., 0., 0., 0., 0., 0., 0., 0., 0., 0., 0., 0., 0., 0.,\n",
       "        0., 0., 0., 0., 0., 0., 0., 0., 0., 0.],\n",
       "       [1., 0., 1., 0., 1., 0., 1., 0., 0., 0., 1., 0., 1., 0., 1., 0.,\n",
       "        0., 0., 0., 0., 1., 0., 1., 0., 1., 0.],\n",
       "       [0., 0., 0., 0., 0., 0., 0., 0., 0., 1., 0., 0., 0., 0., 0., 0.,\n",
       "        0., 1., 1., 0., 0., 0., 0., 0., 0., 0.],\n",
       "       [1., 0., 1., 0., 1., 0., 1., 0., 1., 0., 0., 0., 1., 0., 1., 0.,\n",
       "        0., 1., 0., 0., 0., 0., 1., 0., 1., 0.],\n",
       "       [0., 0., 0., 0., 0., 0., 0., 0., 0., 0., 0., 1., 0., 0., 0., 0.,\n",
       "        0., 0., 0., 1., 1., 0., 0., 0., 0., 0.],\n",
       "       [1., 0., 1., 0., 1., 0., 1., 0., 1., 0., 1., 0., 1., 0., 1., 0.,\n",
       "        1., 0., 0., 0., 0., 0., 1., 0., 1., 0.],\n",
       "       [0., 0., 0., 0., 0., 0., 0., 0., 0., 0., 0., 0., 0., 0., 0., 0.,\n",
       "        0., 0., 0., 1., 1., 0., 0., 0., 0., 0.],\n",
       "       [1., 0., 1., 0., 1., 0., 0., 0., 0., 1., 1., 0., 1., 0., 1., 0.,\n",
       "        1., 0., 0., 1., 1., 0., 1., 0., 1., 0.],\n",
       "       [0., 0., 0., 0., 0., 0., 0., 1., 0., 0., 0., 0., 0., 0., 0., 0.,\n",
       "        0., 0., 0., 0., 0., 0., 0., 0., 0., 0.],\n",
       "       [1., 0., 0., 0., 0., 0., 1., 0., 1., 0., 1., 0., 0., 0., 0., 0.,\n",
       "        1., 0., 1., 0., 1., 0., 1., 0., 1., 0.],\n",
       "       [0., 0., 0., 1., 1., 0., 0., 0., 0., 0., 0., 0., 0., 1., 1., 0.,\n",
       "        0., 0., 0., 0., 0., 0., 0., 0., 0., 0.],\n",
       "       [0., 1., 1., 0., 1., 0., 1., 0., 0., 0., 0., 0., 1., 0., 1., 0.,\n",
       "        1., 0., 1., 0., 1., 0., 1., 0., 1., 0.],\n",
       "       [0., 0., 0., 0., 0., 0., 0., 0., 1., 0., 0., 1., 0., 0., 0., 0.,\n",
       "        0., 0., 0., 0., 0., 0., 0., 0., 0., 0.],\n",
       "       [0., 0., 0., 0., 0., 1., 1., 0., 1., 0., 1., 0., 1., 0., 1., 0.,\n",
       "        1., 0., 1., 0., 1., 0., 1., 0., 1., 0.],\n",
       "       [0., 1., 1., 0., 0., 0., 0., 0., 0., 0., 0., 0., 0., 0., 0., 0.,\n",
       "        0., 0., 0., 0., 0., 0., 0., 0., 0., 0.],\n",
       "       [1., 0., 1., 0., 1., 0., 1., 0., 1., 0., 1., 0., 1., 0., 1., 0.,\n",
       "        1., 0., 1., 0., 1., 0., 1., 0., 1., 0.],\n",
       "       [0., 0., 0., 0., 0., 0., 0., 0., 0., 0., 0., 0., 0., 0., 0., 0.,\n",
       "        0., 0., 0., 0., 0., 0., 0., 0., 0., 0.]])"
      ]
     },
     "execution_count": 68,
     "metadata": {},
     "output_type": "execute_result"
    }
   ],
   "source": [
    "(f1,f2,f3,f4,f5,f6,f7,f8,f9,f10)=init_filters()\n",
    "result1,skeleton1=convolution_epoch(x,f1)\n",
    "result2,skeleton2=convolution_epoch(x,f2)\n",
    "result3,skeleton3=convolution_epoch(x,f3)\n",
    "result4,skeleton4=convolution_epoch(x,f4)\n",
    "result5,skeleton5=convolution_epoch(x,f5)\n",
    "result6,skeleton6=convolution_epoch(x,f6)\n",
    "result7,skeleton7=convolution_epoch(x,f7)\n",
    "result8,skeleton8=convolution_epoch(x,f8)\n",
    "result9,skeleton9=convolution_epoch(x,f9)\n",
    "result10,skeleton10=convolution_epoch(x,f10)\n",
    "\n",
    "cnn_op=np.concatenate((result1,result2,result3,result4,result5,result6,result7,result8,result9,result10),axis=0)\n",
    "result10.shape,cnn_op.shape\n",
    "skeleton1"
   ]
  },
  {
   "cell_type": "code",
   "execution_count": 47,
   "id": "8a447663-4a22-49b0-a9f2-b4648e71b291",
   "metadata": {},
   "outputs": [],
   "source": [
    "def minmax_scaler(input):    \n",
    "    min=input.min()\n",
    "    max=input.max()\n",
    "    scaled=(input - min)/(max-min)\n",
    "    return scaled\n",
    "scaled=minmax_scaler(cnn_op)"
   ]
  },
  {
   "cell_type": "code",
   "execution_count": 48,
   "id": "5f63b47a-4b26-4ca4-9407-04e9672f75d1",
   "metadata": {},
   "outputs": [],
   "source": [
    "def encoded(y):\n",
    "  result=np.zeros((10,1))\n",
    "  result[y,0]=1\n",
    "  return result"
   ]
  },
  {
   "cell_type": "code",
   "execution_count": 49,
   "id": "df7f0708-6284-43b6-a4ad-923f81759afd",
   "metadata": {},
   "outputs": [],
   "source": [
    "def initialize_weights():\n",
    "    w1=np.random.rand(10,1690) - 0.5\n",
    "    b1=np.random.rand(10,1) - 0.5\n",
    "    w2=np.random.rand(10,10) - 0.5\n",
    "    b2=np.random.rand(10,1) - 0.5\n",
    "    return w1,b1,w2,b2"
   ]
  },
  {
   "cell_type": "code",
   "execution_count": 50,
   "id": "7b280c58-c07c-4fe0-b090-ba422051dc97",
   "metadata": {},
   "outputs": [],
   "source": [
    "def relu_der(z):\n",
    "    return z>0"
   ]
  },
  {
   "cell_type": "code",
   "execution_count": 51,
   "id": "df176b0c-a867-4309-aac1-12d034e41212",
   "metadata": {},
   "outputs": [],
   "source": [
    "#scaled is the input i.e. x\n",
    "w1,b1,w2,b2=initialize_weights()\n",
    "def forward(x,w1,b1,w2,b2):\n",
    "    z1=w1.dot(x) + b1\n",
    "    a1=relu(z1)\n",
    "    z2=w2.dot(a1) + b2\n",
    "    a2=relu(z2)\n",
    "    return z1,a1,z2,a2\n",
    "z1,a1,z2,a2=forward(scaled,w1,b1,w2,b2)"
   ]
  },
  {
   "cell_type": "code",
   "execution_count": 52,
   "id": "8ded767c-ca2e-4995-a825-695d4140108b",
   "metadata": {},
   "outputs": [
    {
     "data": {
      "text/plain": [
       "(array([[-1.43660308],\n",
       "        [-0.94231664],\n",
       "        [-5.49574672],\n",
       "        [-0.8728171 ],\n",
       "        [-1.81719808],\n",
       "        [-0.66035133],\n",
       "        [ 4.85069272],\n",
       "        [ 4.71009849],\n",
       "        [ 8.12840747],\n",
       "        [ 3.24774879]]),\n",
       " array([[0.        ],\n",
       "        [0.        ],\n",
       "        [0.        ],\n",
       "        [0.        ],\n",
       "        [0.        ],\n",
       "        [0.        ],\n",
       "        [4.85069272],\n",
       "        [4.71009849],\n",
       "        [8.12840747],\n",
       "        [3.24774879]]),\n",
       " array([[ 2.28741696],\n",
       "        [-5.34355856],\n",
       "        [-0.7535722 ],\n",
       "        [ 0.26194753],\n",
       "        [ 0.47676581],\n",
       "        [-2.18716385],\n",
       "        [-4.03072732],\n",
       "        [-4.74726344],\n",
       "        [-3.99951381],\n",
       "        [ 3.06376306]]),\n",
       " array([[2.28741696],\n",
       "        [0.        ],\n",
       "        [0.        ],\n",
       "        [0.26194753],\n",
       "        [0.47676581],\n",
       "        [0.        ],\n",
       "        [0.        ],\n",
       "        [0.        ],\n",
       "        [0.        ],\n",
       "        [3.06376306]]))"
      ]
     },
     "execution_count": 52,
     "metadata": {},
     "output_type": "execute_result"
    }
   ],
   "source": [
    "z1,a1,z2,a2"
   ]
  },
  {
   "cell_type": "code",
   "execution_count": 53,
   "id": "11b99a4e-8b78-4292-9331-aadccb69b43f",
   "metadata": {},
   "outputs": [],
   "source": [
    "def back_prop(y_unencoded,z1,a1,z2,a2):\n",
    "    \n",
    "    dc_z2=a2-encoded(y_unencoded)\n",
    "    dc_w2=dc_z2.dot((a1.T))\n",
    "    dc_b2=dc_z2\n",
    "    \n",
    "    dc_z1=(w2.dot(dc_z2))*(relu_der(z1))\n",
    "    dc_w1=dc_z1.dot((scaled.T))\n",
    "    dc_b1=dc_z1\n",
    "\n",
    "    dc_x=(w1.T).dot(dc_z1)\n",
    "    \n",
    "    return dc_w1,dc_b1,dc_w2,dc_b2,dc_x\n",
    "def update_params(alpha,dc_w1,dc_b1,dc_w2,dc_b2,w1,b1,w2,b2):\n",
    "    w1=w1-(alpha*dc_w1)\n",
    "    b1=b1-(alpha*dc_b1)\n",
    "    w2=w2-(alpha*dc_w2)\n",
    "    b2=b2-(alpha*dc_b2)\n",
    "    return w1,b1,w2,b2"
   ]
  },
  {
   "cell_type": "code",
   "execution_count": 54,
   "id": "9acf00a6-e11a-4eea-9538-f1899e655a12",
   "metadata": {},
   "outputs": [],
   "source": [
    "dc_w1,dc_b1,dc_w2,dc_b2,dc_x=back_prop(y_unencoded,z1,a1,z2,a2)"
   ]
  },
  {
   "cell_type": "code",
   "execution_count": 55,
   "id": "1e339591-b5cf-4c3b-8776-c8a3f0e76731",
   "metadata": {},
   "outputs": [],
   "source": [
    "w1,b1,w2,b2=update_params(0.45,dc_w1,dc_b1,dc_w2,dc_b2,w1,b1,w2,b2)"
   ]
  },
  {
   "cell_type": "code",
   "execution_count": 56,
   "id": "a81328fa-fa35-49fb-971e-9af009106434",
   "metadata": {},
   "outputs": [
    {
     "name": "stdout",
     "output_type": "stream",
     "text": [
      "(10, 1690) (10, 1) (10, 10) (10, 1)\n"
     ]
    }
   ],
   "source": [
    "print(w1.shape,b1.shape,w2.shape,b2.shape)"
   ]
  },
  {
   "cell_type": "code",
   "execution_count": 57,
   "id": "bfd4e725-ba65-4e3c-95f0-02a470dac955",
   "metadata": {},
   "outputs": [
    {
     "data": {
      "text/plain": [
       "array([[-0.78059342],\n",
       "       [-0.30354008],\n",
       "       [ 0.38046749],\n",
       "       ...,\n",
       "       [ 0.34430709],\n",
       "       [ 0.24852636],\n",
       "       [-0.18884655]])"
      ]
     },
     "execution_count": 57,
     "metadata": {},
     "output_type": "execute_result"
    }
   ],
   "source": [
    "#gradient wrt Input layer of dense layer \n",
    "dc_x"
   ]
  },
  {
   "cell_type": "code",
   "execution_count": 58,
   "id": "3af951b7-5d67-412d-8d43-273048fe3f3a",
   "metadata": {},
   "outputs": [],
   "source": [
    "dc_x1=dc_x[0:169]\n",
    "dc_x2=dc_x[169:169*2]\n",
    "dc_x3=dc_x[169*2:169*3]\n",
    "dc_x4=dc_x[169*3:169*4]\n",
    "dc_x5=dc_x[169*4:169*5]\n",
    "dc_x6=dc_x[169*5:169*6]\n",
    "dc_x7=dc_x[169*6:169*7]\n",
    "dc_x8=dc_x[169*7:169*8]\n",
    "dc_x9=dc_x[169*8:169*9]\n",
    "dc_x10=dc_x[169*9:169*10]"
   ]
  },
  {
   "cell_type": "code",
   "execution_count": 59,
   "id": "bb507d5f-f864-4743-ade3-8c89b5106a94",
   "metadata": {},
   "outputs": [
    {
     "data": {
      "text/plain": [
       "(169, 1)"
      ]
     },
     "execution_count": 59,
     "metadata": {},
     "output_type": "execute_result"
    }
   ],
   "source": [
    "dc_x10.shape"
   ]
  },
  {
   "cell_type": "code",
   "execution_count": 60,
   "id": "6e87596f-907c-408f-a0dd-2036714eaa63",
   "metadata": {},
   "outputs": [],
   "source": [
    "dc_ft1=dc_x1.reshape((13,13))\n",
    "dc_ft2=dc_x2.reshape((13,13))\n",
    "dc_ft3=dc_x3.reshape((13,13))\n",
    "dc_ft4=dc_x4.reshape((13,13))\n",
    "dc_ft5=dc_x5.reshape((13,13))\n",
    "dc_ft6=dc_x6.reshape((13,13))\n",
    "dc_ft7=dc_x7.reshape((13,13))\n",
    "dc_ft8=dc_x8.reshape((13,13))\n",
    "dc_ft9=dc_x9.reshape((13,13))\n",
    "dc_ft10=dc_x10.reshape((13,13))"
   ]
  },
  {
   "cell_type": "code",
   "execution_count": 61,
   "id": "18b3bdef-6ca0-44b3-b701-b67b53584dad",
   "metadata": {},
   "outputs": [
    {
     "data": {
      "text/plain": [
       "(13, 13)"
      ]
     },
     "execution_count": 61,
     "metadata": {},
     "output_type": "execute_result"
    }
   ],
   "source": [
    "dc_ft9.shape"
   ]
  },
  {
   "cell_type": "code",
   "execution_count": 62,
   "id": "81a1acf4-59ce-453c-ad51-64a532f49e33",
   "metadata": {
    "jupyter": {
     "source_hidden": true
    }
   },
   "outputs": [
    {
     "data": {
      "text/plain": [
       "array([[ 1.,  1.,  1.,  2.,  2.,  2.,  3.,  3.,  3.,  4.,  4.,  4.],\n",
       "       [ 1.,  1.,  1.,  2.,  2.,  2.,  3.,  3.,  3.,  4.,  4.,  4.],\n",
       "       [ 1.,  1.,  1.,  2.,  2.,  2.,  3.,  3.,  3.,  4.,  4.,  4.],\n",
       "       [ 5.,  5.,  5.,  6.,  6.,  6.,  7.,  7.,  7.,  8.,  8.,  8.],\n",
       "       [ 5.,  5.,  5.,  6.,  6.,  6.,  7.,  7.,  7.,  8.,  8.,  8.],\n",
       "       [ 5.,  5.,  5.,  6.,  6.,  6.,  7.,  7.,  7.,  8.,  8.,  8.],\n",
       "       [ 9.,  9.,  9., 10., 10., 10., 11., 11., 11., 12., 12., 12.],\n",
       "       [ 9.,  9.,  9., 10., 10., 10., 11., 11., 11., 12., 12., 12.],\n",
       "       [ 9.,  9.,  9., 10., 10., 10., 11., 11., 11., 12., 12., 12.]])"
      ]
     },
     "execution_count": 62,
     "metadata": {},
     "output_type": "execute_result"
    }
   ],
   "source": [
    "pooled=np.array([[1,2,3,4],\n",
    "                [5,6,7,8],\n",
    "                [9,10,11,12]])\n",
    "filter_size=3\n",
    "unpooled_rows=pooled.shape[0]*filter_size\n",
    "unpooled_cols=pooled.shape[1]*filter_size\n",
    "unpooled=np.zeros((unpooled_rows,unpooled_cols))\n",
    "for i in range(len(pooled)):\n",
    "    for j in range(len(pooled[i])):\n",
    "        unpooled[i*filter_size:i*filter_size+filter_size,j*filter_size:j*filter_size+filter_size]=(np.zeros((filter_size,filter_size))+1)*pooled[i,j]\n",
    "unpooled"
   ]
  },
  {
   "cell_type": "code",
   "execution_count": 63,
   "id": "36e74613-0689-4eee-89c5-b5bacc8f43c9",
   "metadata": {},
   "outputs": [],
   "source": [
    "def undo_maxpool(pooled,skeleton,filter_size=2):\n",
    "    \n",
    "    expanded_rows=pooled.shape[0]*filter_size\n",
    "    expanded_cols=pooled.shape[1]*filter_size\n",
    "    expanded=np.zeros((expanded_rows,expanded_cols))\n",
    "    for i in range(len(pooled)):\n",
    "        for j in range(len(pooled[i])):\n",
    "            expanded[i*filter_size:i*filter_size+filter_size,j*filter_size:j*filter_size+filter_size]=(np.zeros((filter_size,filter_size))+1)*pooled[i,j]\n",
    "    #print(expanded)\n",
    "    return expanded*skeleton"
   ]
  },
  {
   "cell_type": "code",
   "execution_count": 64,
   "id": "c9f23c14-a5c0-4287-baab-8d3e98f77d8e",
   "metadata": {},
   "outputs": [
    {
     "data": {
      "text/plain": [
       "array([[1., 0., 0., 0., 0., 0., 0., 0.],\n",
       "       [0., 0., 0., 0., 0., 0., 0., 0.],\n",
       "       [0., 0., 0., 0., 0., 0., 0., 0.],\n",
       "       [0., 0., 0., 0., 0., 0., 0., 0.],\n",
       "       [0., 0., 0., 0., 0., 0., 0., 0.],\n",
       "       [0., 0., 0., 0., 0., 0., 0., 1.]])"
      ]
     },
     "execution_count": 64,
     "metadata": {},
     "output_type": "execute_result"
    }
   ],
   "source": [
    "#testing unpooling\n",
    "pooled=np.array([[1,2,3,4],\n",
    "                [5,6,7,8],\n",
    "                [9,10,11,12]])\n",
    "skeleton=np.zeros((6,8))\n",
    "skeleton[0,0],skeleton[5,7]=1,1\n",
    "skeleton\n"
   ]
  },
  {
   "cell_type": "code",
   "execution_count": 65,
   "id": "97f3b2e5-07fd-4a02-bacd-542916dcd8c9",
   "metadata": {},
   "outputs": [
    {
     "data": {
      "text/plain": [
       "array([[ 1.,  0.,  0.,  0.,  0.,  0.,  0.,  0.],\n",
       "       [ 0.,  0.,  0.,  0.,  0.,  0.,  0.,  0.],\n",
       "       [ 0.,  0.,  0.,  0.,  0.,  0.,  0.,  0.],\n",
       "       [ 0.,  0.,  0.,  0.,  0.,  0.,  0.,  0.],\n",
       "       [ 0.,  0.,  0.,  0.,  0.,  0.,  0.,  0.],\n",
       "       [ 0.,  0.,  0.,  0.,  0.,  0.,  0., 12.]])"
      ]
     },
     "execution_count": 65,
     "metadata": {},
     "output_type": "execute_result"
    }
   ],
   "source": [
    "undo_maxpool(pooled,skeleton)"
   ]
  },
  {
   "cell_type": "code",
   "execution_count": 66,
   "id": "e5ed8385-1ace-4192-84ea-ea301f3c23a7",
   "metadata": {},
   "outputs": [
    {
     "data": {
      "text/plain": [
       "(26, 26)"
      ]
     },
     "execution_count": 66,
     "metadata": {},
     "output_type": "execute_result"
    }
   ],
   "source": [
    "dc_A1=undo_maxpool(dc_ft1,skeleton1)\n",
    "dc_A2=undo_maxpool(dc_ft2,skeleton2)\n",
    "dc_A3=undo_maxpool(dc_ft3,skeleton3)\n",
    "dc_A4=undo_maxpool(dc_ft4,skeleton4)\n",
    "dc_A5=undo_maxpool(dc_ft5,skeleton5)\n",
    "dc_A6=undo_maxpool(dc_ft6,skeleton6)\n",
    "dc_A7=undo_maxpool(dc_ft7,skeleton7)\n",
    "dc_A8=undo_maxpool(dc_ft8,skeleton8)\n",
    "dc_A9=undo_maxpool(dc_ft9,skeleton9)\n",
    "dc_A10=undo_maxpool(dc_ft10,skeleton10)\n",
    "dc_A1.shape"
   ]
  },
  {
   "cell_type": "code",
   "execution_count": 67,
   "id": "fce79dda-6366-40e7-953e-09e5197004dc",
   "metadata": {},
   "outputs": [
    {
     "ename": "NameError",
     "evalue": "name 'output1' is not defined",
     "output_type": "error",
     "traceback": [
      "\u001b[1;31m---------------------------------------------------------------------------\u001b[0m",
      "\u001b[1;31mNameError\u001b[0m                                 Traceback (most recent call last)",
      "Cell \u001b[1;32mIn[67], line 1\u001b[0m\n\u001b[1;32m----> 1\u001b[0m dc_O1\u001b[38;5;241m=\u001b[39mdc_A1\u001b[38;5;241m*\u001b[39mrelu_der(\u001b[43moutput1\u001b[49m) \u001b[38;5;66;03m#create a dictionary where all the outputs and EVERYTHIGN is accesible \u001b[39;00m\n",
      "\u001b[1;31mNameError\u001b[0m: name 'output1' is not defined"
     ]
    }
   ],
   "source": [
    "dc_O1=dc_A1*relu_der(output1) #create a dictionary where all the outputs and EVERYTHIGN is accesible "
   ]
  },
  {
   "cell_type": "code",
   "execution_count": null,
   "id": "1334cdb9-65bb-4769-ba3e-f4c7e1cbc2a2",
   "metadata": {},
   "outputs": [],
   "source": []
  }
 ],
 "metadata": {
  "kernelspec": {
   "display_name": "general",
   "language": "python",
   "name": "general"
  },
  "language_info": {
   "codemirror_mode": {
    "name": "ipython",
    "version": 3
   },
   "file_extension": ".py",
   "mimetype": "text/x-python",
   "name": "python",
   "nbconvert_exporter": "python",
   "pygments_lexer": "ipython3",
   "version": "3.10.9"
  }
 },
 "nbformat": 4,
 "nbformat_minor": 5
}
